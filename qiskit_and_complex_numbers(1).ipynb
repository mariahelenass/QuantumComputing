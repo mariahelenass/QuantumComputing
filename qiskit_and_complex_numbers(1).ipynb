{
  "cells": [
    {
      "cell_type": "markdown",
      "metadata": {
        "id": "view-in-github",
        "colab_type": "text"
      },
      "source": [
        "<a href=\"https://colab.research.google.com/github/mariahelenass/QuantumComputing/blob/main/qiskit_and_complex_numbers(1).ipynb\" target=\"_parent\"><img src=\"https://colab.research.google.com/assets/colab-badge.svg\" alt=\"Open In Colab\"/></a>"
      ]
    },
    {
      "cell_type": "code",
      "execution_count": null,
      "id": "4a6b7b02-36c1-4aa9-9c68-cee743c904df",
      "metadata": {
        "id": "4a6b7b02-36c1-4aa9-9c68-cee743c904df"
      },
      "outputs": [],
      "source": [
        "import qiskit"
      ]
    },
    {
      "cell_type": "code",
      "execution_count": null,
      "id": "d1295431-0bd1-4df6-9c19-1c7b6543586f",
      "metadata": {
        "id": "d1295431-0bd1-4df6-9c19-1c7b6543586f",
        "outputId": "213f8d52-ad61-4f58-cec4-c43a04715fb2"
      },
      "outputs": [
        {
          "data": {
            "text/plain": [
              "'1.0.2'"
            ]
          },
          "execution_count": 3,
          "metadata": {},
          "output_type": "execute_result"
        }
      ],
      "source": [
        "qiskit.__version__"
      ]
    },
    {
      "cell_type": "code",
      "execution_count": null,
      "id": "7a76a8d8-6362-4617-a375-980987f63f85",
      "metadata": {
        "id": "7a76a8d8-6362-4617-a375-980987f63f85"
      },
      "outputs": [],
      "source": [
        "import numpy as np"
      ]
    },
    {
      "cell_type": "code",
      "execution_count": null,
      "id": "ae9720c7-a92e-4d04-b365-fba454ffaaee",
      "metadata": {
        "id": "ae9720c7-a92e-4d04-b365-fba454ffaaee",
        "outputId": "dad301f2-1917-42fb-da94-7f9f88053e63"
      },
      "outputs": [
        {
          "name": "stdout",
          "output_type": "stream",
          "text": [
            "(5+3j)\n"
          ]
        }
      ],
      "source": [
        "# define a complex number\n",
        "a = 5 + 3j\n",
        "print(a)"
      ]
    },
    {
      "cell_type": "code",
      "execution_count": null,
      "id": "4d79d03f-a089-46e7-869e-82e850bd59fa",
      "metadata": {
        "id": "4d79d03f-a089-46e7-869e-82e850bd59fa",
        "outputId": "ecdbf769-7f67-429d-dfd8-3bb103ed32be"
      },
      "outputs": [
        {
          "name": "stdout",
          "output_type": "stream",
          "text": [
            "5.830951894845301\n"
          ]
        }
      ],
      "source": [
        "# module\n",
        "print(abs(a))"
      ]
    },
    {
      "cell_type": "code",
      "execution_count": null,
      "id": "126ee5cf-67f0-49a8-87dd-2b51d29be5cb",
      "metadata": {
        "id": "126ee5cf-67f0-49a8-87dd-2b51d29be5cb",
        "outputId": "69264f30-3d50-4765-83c9-ff2450c8cc56"
      },
      "outputs": [
        {
          "name": "stdout",
          "output_type": "stream",
          "text": [
            "(1.7999999999999998+0.4j)\n"
          ]
        }
      ],
      "source": [
        "# division\n",
        "print((5 + 3j)/(3 + 1j))"
      ]
    },
    {
      "cell_type": "code",
      "execution_count": null,
      "id": "344df0ef-cbd1-4a33-b0da-1c7eccc80180",
      "metadata": {
        "id": "344df0ef-cbd1-4a33-b0da-1c7eccc80180",
        "outputId": "1e921afd-28da-418b-ff3e-94ac656d7811"
      },
      "outputs": [
        {
          "data": {
            "text/plain": [
              "5.0"
            ]
          },
          "execution_count": 8,
          "metadata": {},
          "output_type": "execute_result"
        }
      ],
      "source": [
        "# real\n",
        "a.real"
      ]
    },
    {
      "cell_type": "code",
      "execution_count": null,
      "id": "82c827e1-e825-4fc1-a6d6-270cedcf302d",
      "metadata": {
        "id": "82c827e1-e825-4fc1-a6d6-270cedcf302d",
        "outputId": "e2688dd5-b623-4d04-c847-c14c157a13f0"
      },
      "outputs": [
        {
          "data": {
            "text/plain": [
              "3.0"
            ]
          },
          "execution_count": 9,
          "metadata": {},
          "output_type": "execute_result"
        }
      ],
      "source": [
        "# imaginary\n",
        "a.imag"
      ]
    },
    {
      "cell_type": "code",
      "execution_count": null,
      "id": "51cc6af6-2f3a-437d-bb2e-c2290cb46de9",
      "metadata": {
        "id": "51cc6af6-2f3a-437d-bb2e-c2290cb46de9",
        "outputId": "4c6b19de-5431-4511-dcfa-1879332973fd"
      },
      "outputs": [
        {
          "data": {
            "text/plain": [
              "(5-3j)"
            ]
          },
          "execution_count": 11,
          "metadata": {},
          "output_type": "execute_result"
        }
      ],
      "source": [
        "# conjugate\n",
        "np.conjugate(a)"
      ]
    },
    {
      "cell_type": "code",
      "execution_count": null,
      "id": "655cc5b6-3daa-4850-b26a-8ee383fbbe46",
      "metadata": {
        "id": "655cc5b6-3daa-4850-b26a-8ee383fbbe46",
        "outputId": "84927a4d-f089-454a-d4e0-4b602dc02bf2"
      },
      "outputs": [
        {
          "name": "stdout",
          "output_type": "stream",
          "text": [
            "[[1 0]]\n"
          ]
        }
      ],
      "source": [
        "# line vector\n",
        "v0l = np.array([[1,0]])\n",
        "print(v0l)"
      ]
    },
    {
      "cell_type": "code",
      "execution_count": null,
      "id": "2e6095b6-c37d-4937-98fe-e5bcc883d6c9",
      "metadata": {
        "id": "2e6095b6-c37d-4937-98fe-e5bcc883d6c9",
        "outputId": "da69ad0a-5855-4378-95f8-4253a37b5c70"
      },
      "outputs": [
        {
          "name": "stdout",
          "output_type": "stream",
          "text": [
            "[[1]\n",
            " [0]]\n"
          ]
        }
      ],
      "source": [
        "# col vector\n",
        "v0c = np.array([ [1],[0] ])\n",
        "print(v0c)"
      ]
    },
    {
      "cell_type": "code",
      "execution_count": null,
      "id": "5a0d71a7-7734-4e06-9e72-f17c72903887",
      "metadata": {
        "id": "5a0d71a7-7734-4e06-9e72-f17c72903887",
        "outputId": "bdf9d3f4-2956-4b3b-ecd0-dfbbf747d622"
      },
      "outputs": [
        {
          "data": {
            "text/plain": [
              "array([[1]])"
            ]
          },
          "execution_count": 19,
          "metadata": {},
          "output_type": "execute_result"
        }
      ],
      "source": [
        "# product\n",
        "v0l@v0c"
      ]
    },
    {
      "cell_type": "code",
      "execution_count": null,
      "id": "da0a16d7-910e-4c9f-af5c-81a9795c2fcf",
      "metadata": {
        "id": "da0a16d7-910e-4c9f-af5c-81a9795c2fcf",
        "outputId": "e2faa17c-d5e2-4aa5-fd41-0ad593de33b0"
      },
      "outputs": [
        {
          "data": {
            "text/plain": [
              "array([[1, 0],\n",
              "       [0, 0]])"
            ]
          },
          "execution_count": 20,
          "metadata": {},
          "output_type": "execute_result"
        }
      ],
      "source": [
        "v0c@v0l"
      ]
    },
    {
      "cell_type": "code",
      "execution_count": null,
      "id": "aa85e70e-eafe-4f7a-a13f-5a51557c5758",
      "metadata": {
        "id": "aa85e70e-eafe-4f7a-a13f-5a51557c5758"
      },
      "outputs": [],
      "source": [
        "v1c = np.array([ [0],[1] ])"
      ]
    },
    {
      "cell_type": "code",
      "execution_count": null,
      "id": "89f8c14b-bcaf-407a-929e-7479217ffb84",
      "metadata": {
        "id": "89f8c14b-bcaf-407a-929e-7479217ffb84",
        "outputId": "af4ff590-80aa-43a5-dd7e-f0afa928fe48"
      },
      "outputs": [
        {
          "name": "stdout",
          "output_type": "stream",
          "text": [
            "[[1]\n",
            " [0]]\n",
            "[[0]\n",
            " [1]]\n"
          ]
        }
      ],
      "source": [
        "print(v0c)\n",
        "print(v1c)"
      ]
    },
    {
      "cell_type": "code",
      "execution_count": null,
      "id": "a7488039-14fe-4b01-9f26-95c544b5d4f2",
      "metadata": {
        "id": "a7488039-14fe-4b01-9f26-95c544b5d4f2",
        "outputId": "88a07f71-d337-441f-f7e2-c077a40e8c98"
      },
      "outputs": [
        {
          "name": "stdout",
          "output_type": "stream",
          "text": [
            "[[3.+1.j]\n",
            " [5.-2.j]]\n"
          ]
        }
      ],
      "source": [
        "psi = (3 + 1j) * v0c + (5 - 2j) * v1c\n",
        "print(psi)"
      ]
    },
    {
      "cell_type": "code",
      "execution_count": null,
      "id": "361e61bc-2777-49c5-85f7-9e9ebcb8a116",
      "metadata": {
        "id": "361e61bc-2777-49c5-85f7-9e9ebcb8a116",
        "outputId": "af545437-f91b-4b10-98e4-49d92fc957c0"
      },
      "outputs": [
        {
          "name": "stdout",
          "output_type": "stream",
          "text": [
            "[[3.-1.j]\n",
            " [5.+2.j]]\n"
          ]
        }
      ],
      "source": [
        "print(np.conj(psi))"
      ]
    },
    {
      "cell_type": "code",
      "execution_count": null,
      "id": "ecf647d0-8bf2-4223-a3e3-d3679ebf47af",
      "metadata": {
        "id": "ecf647d0-8bf2-4223-a3e3-d3679ebf47af",
        "outputId": "071b4e8d-b84b-48f2-ca33-facb337866e3"
      },
      "outputs": [
        {
          "name": "stdout",
          "output_type": "stream",
          "text": [
            "[[3.-1.j 5.+2.j]]\n"
          ]
        }
      ],
      "source": [
        "# transpose\n",
        "psid = np.transpose(np.conj(psi))\n",
        "print(psid)"
      ]
    },
    {
      "cell_type": "code",
      "execution_count": null,
      "id": "17867703-ecff-45a9-ae7a-e4d9cdaf1faf",
      "metadata": {
        "id": "17867703-ecff-45a9-ae7a-e4d9cdaf1faf",
        "outputId": "2315c7e0-0945-4ccd-88e3-f07f5706f353"
      },
      "outputs": [
        {
          "data": {
            "text/plain": [
              "array([[39.+0.j]])"
            ]
          },
          "execution_count": 30,
          "metadata": {},
          "output_type": "execute_result"
        }
      ],
      "source": [
        "psid@psi"
      ]
    },
    {
      "cell_type": "code",
      "execution_count": null,
      "id": "02cdbdfe-1315-4ab4-9df3-8be91323ece8",
      "metadata": {
        "id": "02cdbdfe-1315-4ab4-9df3-8be91323ece8",
        "outputId": "a16acede-a9d9-4b41-eec2-1e8e1add6836"
      },
      "outputs": [
        {
          "name": "stdout",
          "output_type": "stream",
          "text": [
            "[[0.48038446+0.16012815j]\n",
            " [0.80064077-0.32025631j]]\n"
          ]
        }
      ],
      "source": [
        "# quantum state\n",
        "normalize = (3 + 1j)*v0c/np.sqrt(39) + (5 - 2j)*v1c/np.sqrt(39)\n",
        "print(normalize)"
      ]
    },
    {
      "cell_type": "code",
      "execution_count": null,
      "id": "b9ad131a-ce1b-444c-9008-5f79798aeccd",
      "metadata": {
        "id": "b9ad131a-ce1b-444c-9008-5f79798aeccd"
      },
      "outputs": [],
      "source": [
        "psid_normalized = np.transpose(np.conj(normalize))"
      ]
    },
    {
      "cell_type": "code",
      "execution_count": null,
      "id": "22b078e9-863a-4395-b4d0-9d463480960e",
      "metadata": {
        "id": "22b078e9-863a-4395-b4d0-9d463480960e",
        "outputId": "e94e8f7d-2611-4ada-ee90-4e531168e9bf"
      },
      "outputs": [
        {
          "data": {
            "text/plain": [
              "array([[1.+0.j]])"
            ]
          },
          "execution_count": 36,
          "metadata": {},
          "output_type": "execute_result"
        }
      ],
      "source": [
        "psid_normalized@normalize"
      ]
    },
    {
      "cell_type": "code",
      "execution_count": null,
      "id": "e81fb89a-06a9-410e-8ab7-15a033ee75d6",
      "metadata": {
        "id": "e81fb89a-06a9-410e-8ab7-15a033ee75d6"
      },
      "outputs": [],
      "source": [
        "sz = np.array([ [1, 0],[0, -1] ])"
      ]
    },
    {
      "cell_type": "code",
      "execution_count": null,
      "id": "de6c0b6d-305f-4708-b868-e40566bcca46",
      "metadata": {
        "id": "de6c0b6d-305f-4708-b868-e40566bcca46",
        "outputId": "e83e1e80-ae17-4c86-8e77-e0a62526df21"
      },
      "outputs": [
        {
          "data": {
            "text/plain": [
              "array([[0.48038446+0.16012815j],\n",
              "       [0.80064077-0.32025631j]])"
            ]
          },
          "execution_count": 40,
          "metadata": {},
          "output_type": "execute_result"
        }
      ],
      "source": [
        "psi"
      ]
    },
    {
      "cell_type": "code",
      "execution_count": null,
      "id": "11dc1faa-439a-4e79-a0a1-58c3de4e9249",
      "metadata": {
        "id": "11dc1faa-439a-4e79-a0a1-58c3de4e9249",
        "outputId": "4a77f058-f258-4089-93c2-3c6ff16a285e"
      },
      "outputs": [
        {
          "data": {
            "text/plain": [
              "array([[ 0.48038446+0.16012815j],\n",
              "       [-0.80064077+0.32025631j]])"
            ]
          },
          "execution_count": 41,
          "metadata": {},
          "output_type": "execute_result"
        }
      ],
      "source": [
        "sz@psi"
      ]
    },
    {
      "cell_type": "code",
      "execution_count": null,
      "id": "62dbb350-778f-40f4-a9a3-163095c8ad74",
      "metadata": {
        "id": "62dbb350-778f-40f4-a9a3-163095c8ad74",
        "outputId": "f18ac2f7-746c-44db-bf78-2b7d9824f703"
      },
      "outputs": [
        {
          "name": "stdout",
          "output_type": "stream",
          "text": [
            "[[0 1]\n",
            " [1 0]]\n"
          ]
        }
      ],
      "source": [
        "sx = np.array([ [0, 1],[1, -0] ])\n",
        "print(sx)"
      ]
    },
    {
      "cell_type": "code",
      "execution_count": null,
      "id": "ef3eb527-2f8f-4048-8d09-ebf49d2dd626",
      "metadata": {
        "id": "ef3eb527-2f8f-4048-8d09-ebf49d2dd626",
        "outputId": "adac60fd-55b0-4ca6-ad97-81bb461c841c"
      },
      "outputs": [
        {
          "data": {
            "text/plain": [
              "array([[0.80064077-0.32025631j],\n",
              "       [0.48038446+0.16012815j]])"
            ]
          },
          "execution_count": 43,
          "metadata": {},
          "output_type": "execute_result"
        }
      ],
      "source": [
        "sx@psi"
      ]
    }
  ],
  "metadata": {
    "kernelspec": {
      "display_name": "Python 3 (ipykernel)",
      "language": "python",
      "name": "python3"
    },
    "language_info": {
      "codemirror_mode": {
        "name": "ipython",
        "version": 3
      },
      "file_extension": ".py",
      "mimetype": "text/x-python",
      "name": "python",
      "nbconvert_exporter": "python",
      "pygments_lexer": "ipython3",
      "version": "3.12.3"
    },
    "colab": {
      "provenance": [],
      "include_colab_link": true
    }
  },
  "nbformat": 4,
  "nbformat_minor": 5
}